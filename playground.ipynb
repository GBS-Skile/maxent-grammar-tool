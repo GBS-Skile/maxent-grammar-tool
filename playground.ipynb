{
 "cells": [
  {
   "cell_type": "code",
   "execution_count": 1,
   "metadata": {},
   "outputs": [],
   "source": [
    "from typing import List\n",
    "\n",
    "import numpy as np\n",
    "from numpy.typing import NDArray\n",
    "from scipy.optimize import Bounds, minimize"
   ]
  },
  {
   "cell_type": "code",
   "execution_count": 2,
   "metadata": {},
   "outputs": [],
   "source": [
    "from model.tableaux import Tableaux\n",
    "from model.priors import Gaussian, Priors"
   ]
  },
  {
   "cell_type": "code",
   "execution_count": 3,
   "metadata": {},
   "outputs": [],
   "source": [
    "class GaussianRegularizer:\n",
    "    mu: NDArray[np.float64]  # (p,)\n",
    "    sig_sq: NDArray[np.float64]  # (p,)\n",
    "\n",
    "    def __init__(self, priors: Priors, keys: List[str]):\n",
    "        gaussians = [priors.get(k) for k in keys]\n",
    "        self.mu = np.array([g.mean for g in gaussians])\n",
    "        self.sig_sq = np.array([g.var for g in gaussians])\n",
    "\n",
    "    def score(self, beta):\n",
    "        \"\"\"returns -logP\"\"\"\n",
    "        return (0.5 * np.square(beta - self.mu) / self.sig_sq).sum()\n",
    "\n",
    "    def grad(self, beta):\n",
    "        \"\"\"returns d/db (-logP)\"\"\"\n",
    "        return (beta - self.mu) / self.sig_sq"
   ]
  },
  {
   "cell_type": "code",
   "execution_count": 4,
   "metadata": {},
   "outputs": [],
   "source": [
    "def objective(beta, tbx: Tableaux, reg: GaussianRegularizer):\n",
    "    return tbx.score(beta) + reg.score(beta)\n",
    "\n",
    "def gradient(beta, tbx: Tableaux, reg: GaussianRegularizer):\n",
    "    return tbx.grad(beta) + reg.grad(beta)"
   ]
  },
  {
   "cell_type": "code",
   "execution_count": 6,
   "metadata": {},
   "outputs": [],
   "source": [
    "DATA_FILE = \"data/JapaneseLoanword.txt\"\n",
    "tbx = Tableaux.load(DATA_FILE)\n",
    "\n",
    "CONSTRAINT_FILE = \"data/JLConstraint.txt\"\n",
    "cons = Priors(filename=CONSTRAINT_FILE)\n",
    "# cons = Priors(default=Gaussian(-2, 10))\n",
    "reg = GaussianRegularizer(cons, tbx.feature_names)\n",
    "\n",
    "beta0 = np.array([-5.0] * len(tbx.features))"
   ]
  },
  {
   "cell_type": "code",
   "execution_count": 8,
   "metadata": {},
   "outputs": [
    {
     "data": {
      "text/plain": [
       "  message: CONVERGENCE: REL_REDUCTION_OF_F_<=_FACTR*EPSMCH\n",
       "  success: True\n",
       "   status: 0\n",
       "      fun: 693.1473318076597\n",
       "        x: [-3.460e+01 -1.730e+01 -1.730e+01]\n",
       "      nit: 28\n",
       "      jac: [-1.321e-04  1.576e-04  1.576e-04]\n",
       "     nfev: 31\n",
       "     njev: 31\n",
       " hess_inv: <3x3 LbfgsInvHessProduct with dtype=float64>"
      ]
     },
     "execution_count": 8,
     "metadata": {},
     "output_type": "execute_result"
    }
   ],
   "source": [
    "# 20111.58649332986\n",
    "res = minimize(objective, beta0, args=(tbx, reg), jac=gradient,\n",
    "         bounds=Bounds(-np.inf, 0.), tol=1e-10)\n",
    "res"
   ]
  },
  {
   "cell_type": "code",
   "execution_count": 14,
   "metadata": {},
   "outputs": [
    {
     "data": {
      "text/plain": [
       "(array([5.00000190e-01, 4.99999810e-01, 4.72557362e-16]),\n",
       " array([0.5, 0.5, 0. ]))"
      ]
     },
     "execution_count": 14,
     "metadata": {},
     "output_type": "execute_result"
    }
   ],
   "source": [
    "ex = tbx.examples[2]\n",
    "ex.predict(res.x), ex.freqs / sum(ex.freqs)"
   ]
  },
  {
   "cell_type": "code",
   "execution_count": 13,
   "metadata": {},
   "outputs": [
    {
     "data": {
      "text/plain": [
       "3.4129236084622177"
      ]
     },
     "execution_count": 13,
     "metadata": {},
     "output_type": "execute_result"
    }
   ],
   "source": [
    "objective(np.array([\n",
    "    -0.03173206593057489, -0.15883115214362092\n",
    "]), tbx, reg)"
   ]
  },
  {
   "cell_type": "code",
   "execution_count": 378,
   "metadata": {},
   "outputs": [],
   "source": [
    "def softmax(x):\n",
    "    a = np.exp(x)\n",
    "    return a / a.sum()"
   ]
  },
  {
   "cell_type": "code",
   "execution_count": 379,
   "metadata": {},
   "outputs": [
    {
     "data": {
      "text/plain": [
       "array([5.4937805 , 0.69021848, 1.02176443, 5.00423239])"
      ]
     },
     "execution_count": 379,
     "metadata": {},
     "output_type": "execute_result"
    }
   ],
   "source": [
    "-res.x"
   ]
  },
  {
   "cell_type": "code",
   "execution_count": 380,
   "metadata": {},
   "outputs": [
    {
     "name": "stdout",
     "output_type": "stream",
     "text": [
      "[0.54999992 0.45000008] [0.55 0.45]\n",
      "[0.62999989 0.37000011] [0.63 0.37]\n",
      "[0.38000003 0.61999997] [0.38 0.62]\n"
     ]
    }
   ],
   "source": [
    "res.x\n",
    "\n",
    "for ex in tbx.examples:\n",
    "    print(softmax(ex.violations @ res.x), ex.freqs / ex.freqs.sum())"
   ]
  }
 ],
 "metadata": {
  "kernelspec": {
   "display_name": "ml",
   "language": "python",
   "name": "python3"
  },
  "language_info": {
   "codemirror_mode": {
    "name": "ipython",
    "version": 3
   },
   "file_extension": ".py",
   "mimetype": "text/x-python",
   "name": "python",
   "nbconvert_exporter": "python",
   "pygments_lexer": "ipython3",
   "version": "3.10.9"
  }
 },
 "nbformat": 4,
 "nbformat_minor": 2
}
